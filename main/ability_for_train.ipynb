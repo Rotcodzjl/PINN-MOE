{
 "cells": [
  {
   "cell_type": "code",
   "id": "initial_id",
   "metadata": {
    "collapsed": true,
    "ExecuteTime": {
     "end_time": "2025-04-12T11:23:15.414717Z",
     "start_time": "2025-04-12T11:23:12.615196Z"
    }
   },
   "source": [
    "import matplotlib.pyplot as plt\n",
    "import numpy as np\n",
    "import torch\n",
    "from torchvision.models import resnet18\n",
    "from torchvision import transforms\n",
    "from tqdm import tqdm\n",
    "from torch import nn\n",
    "from torch.utils.data import Dataset,TensorDataset,DataLoader,random_split\n",
    "from sklearn.metrics import mean_squared_error\n",
    "from math import sqrt\n",
    "from d2l import torch as d2l\n",
    "import random\n",
    "import os\n",
    "from torchprofile import profile_macs\n",
    "import torch.nn.functional as F\n",
    "from torch.autograd import grad\n",
    "import torch.nn.init as init\n",
    "d2l.use_svg_display()\n",
    "from fvcore.nn import FlopCountAnalysis, flop_count_table\n",
    "from models import models \n",
    "from models.models import calculate_model_size,get_data,train,calculate_flops_torchprofile,evaluation,calculate_mae,mape\n"
   ],
   "outputs": [],
   "execution_count": 1
  },
  {
   "metadata": {},
   "cell_type": "markdown",
   "source": "## MLP",
   "id": "ea147425960ce585"
  },
  {
   "metadata": {
    "ExecuteTime": {
     "end_time": "2025-04-12T11:23:16.338805Z",
     "start_time": "2025-04-12T11:23:16.317021Z"
    }
   },
   "cell_type": "code",
   "source": [
    "from models.models import  MLP as md\n",
    "now_model = md()\n",
    "size=calculate_model_size(now_model)\n",
    "input_shape = (1, 11)  # batch_size=1\n",
    "# total_flops, flops_table = calculate_flops_fvcore(now_model, input_shape)\n",
    "total_flops = calculate_flops_torchprofile(now_model, input_shape, device='cpu')\n",
    "print(f\"模型大小:{size}B\")\n",
    "print(f\"总FLOPs (近似值): {total_flops/1000000:,}\")"
   ],
   "id": "73660d3256c0d3b8",
   "outputs": [
    {
     "name": "stdout",
     "output_type": "stream",
     "text": [
      "模型大小:0.07300186157226562B\n",
      "总FLOPs (近似值): 2.8950527999999998\n"
     ]
    }
   ],
   "execution_count": 2
  },
  {
   "metadata": {},
   "cell_type": "markdown",
   "source": "## CNN",
   "id": "9238c5e579e49e13"
  },
  {
   "metadata": {
    "ExecuteTime": {
     "end_time": "2025-04-12T11:27:35.338705Z",
     "start_time": "2025-04-12T11:27:35.299301Z"
    }
   },
   "cell_type": "code",
   "source": [
    "from models.models import  ConvNet as md\n",
    "now_model = md()\n",
    "size=calculate_model_size(now_model)\n",
    "input_shape = (1, 11)  # batch_size=1\n",
    "# total_flops, flops_table = calculate_flops_fvcore(now_model, input_shape)\n",
    "total_flops = calculate_flops_torchprofile(now_model, input_shape, device='cpu')\n",
    "print(f\"模型大小:{2*size}B\") #加入MLP转换等的修正量\n",
    "print(f\"总FLOPs (近似值): {total_flops/1000000:,}\")"
   ],
   "id": "8b45650b0cddcc4e",
   "outputs": [
    {
     "name": "stdout",
     "output_type": "stream",
     "text": [
      "模型大小:0.34815216064453125B\n",
      "总FLOPs (近似值): 7.087718399999999\n"
     ]
    },
    {
     "name": "stderr",
     "output_type": "stream",
     "text": [
      "D:\\python_env\\anaconda3\\envs\\work\\lib\\site-packages\\torchprofile\\profile.py:22: UserWarning: No handlers found: \"aten::unsqueeze\". Skipped.\n",
      "  warnings.warn('No handlers found: \"{}\". Skipped.'.format(\n"
     ]
    }
   ],
   "execution_count": 8
  },
  {
   "metadata": {},
   "cell_type": "markdown",
   "source": "## LSTM",
   "id": "1967653d4debf723"
  },
  {
   "metadata": {},
   "cell_type": "code",
   "outputs": [],
   "execution_count": null,
   "source": [
    "from models.models import  LSTMNetwork as md\n",
    "now_model = md()\n",
    "size=calculate_model_size(now_model)\n",
    "input_shape = (1, 11)  # batch_size=1\n",
    "# total_flops, flops_table = calculate_flops_fvcore(now_model, input_shape)\n",
    "total_flops = calculate_flops_torchprofile(now_model, input_shape, device='cpu')\n",
    "print(f\"模型大小:{size}B\")\n",
    "print(f\"总FLOPs (近似值): {total_flops/1000000:,}\")"
   ],
   "id": "41a5d9c5aecf32c0"
  },
  {
   "metadata": {},
   "cell_type": "markdown",
   "source": "",
   "id": "246a18fad64f85df"
  },
  {
   "metadata": {},
   "cell_type": "markdown",
   "source": "## GRU",
   "id": "a422d938492b334f"
  },
  {
   "metadata": {},
   "cell_type": "code",
   "outputs": [],
   "execution_count": null,
   "source": [
    "from models.models import  GRUNetwork as md\n",
    "now_model = md()\n",
    "size=calculate_model_size(now_model)\n",
    "input_shape = (1, 11)  # batch_size=1\n",
    "# total_flops, flops_table = calculate_flops_fvcore(now_model, input_shape)\n",
    "total_flops = calculate_flops_torchprofile(now_model, input_shape, device='cpu')\n",
    "print(f\"模型大小:{size}B\")\n",
    "print(f\"总FLOPs (近似值): {total_flops/1000000:,}\")"
   ],
   "id": "ff117012348e69fd"
  },
  {
   "metadata": {},
   "cell_type": "markdown",
   "source": "",
   "id": "38a452d553524ef3"
  },
  {
   "metadata": {},
   "cell_type": "markdown",
   "source": "## Bi-LSTM",
   "id": "17f5b989c0c1c20e"
  },
  {
   "metadata": {},
   "cell_type": "code",
   "outputs": [],
   "execution_count": null,
   "source": [
    "from models.models import  BiLSTMNetwork as md\n",
    "now_model = md()\n",
    "size=calculate_model_size(now_model)\n",
    "input_shape = (1, 11)  # batch_size=1\n",
    "# total_flops, flops_table = calculate_flops_fvcore(now_model, input_shape)\n",
    "total_flops = calculate_flops_torchprofile(now_model, input_shape, device='cpu')\n",
    "print(f\"模型大小:{size}B\")\n",
    "print(f\"总FLOPs (近似值): {total_flops/1000000:,}\")"
   ],
   "id": "b3b20b21ec050a6f"
  },
  {
   "metadata": {},
   "cell_type": "markdown",
   "source": "## Transformer",
   "id": "bc5409774290c049"
  },
  {
   "metadata": {},
   "cell_type": "code",
   "outputs": [],
   "execution_count": null,
   "source": [
    "from models.models import  TransformerModel as md\n",
    "now_model = md()\n",
    "size=calculate_model_size(now_model)\n",
    "input_shape = (1, 11)  # batch_size=1\n",
    "# total_flops, flops_table = calculate_flops_fvcore(now_model, input_shape)\n",
    "total_flops = calculate_flops_torchprofile(now_model, input_shape, device='cpu')\n",
    "print(f\"模型大小:{size}M\")\n",
    "print(f\"总FLOPs (近似值): {total_flops/1000000:,}\")"
   ],
   "id": "103f00678a16e261"
  },
  {
   "metadata": {},
   "cell_type": "markdown",
   "source": "## CNN-Transformer",
   "id": "5e7097b1112f1294"
  },
  {
   "metadata": {},
   "cell_type": "code",
   "outputs": [],
   "execution_count": null,
   "source": [
    "from models.models import  CNNTransformer as md\n",
    "now_model = md()\n",
    "size=calculate_model_size(now_model)\n",
    "input_shape = (1, 11)  # batch_size=1\n",
    "# total_flops, flops_table = calculate_flops_fvcore(now_model, input_shape)\n",
    "total_flops = calculate_flops_torchprofile(now_model, input_shape, device='cpu')\n",
    "print(f\"模型大小:{size}M\")\n",
    "print(f\"总FLOPs (近似值): {total_flops/1000000:,}\")"
   ],
   "id": "8f6eff37cccdc3f7"
  },
  {
   "metadata": {},
   "cell_type": "markdown",
   "source": "## TPA_CNN_LSTM",
   "id": "908040a40d076183"
  },
  {
   "metadata": {},
   "cell_type": "code",
   "outputs": [],
   "execution_count": null,
   "source": [
    "from models.models import  TPA_CNN_LSTM as md\n",
    "now_model = md()\n",
    "size=calculate_model_size(now_model)\n",
    "input_shape = (1, 11)  # batch_size=1\n",
    "# total_flops, flops_table = calculate_flops_fvcore(now_model, input_shape)\n",
    "total_flops = calculate_flops_torchprofile(now_model, input_shape, device='cpu')\n",
    "print(f\"模型大小:{size}M\")\n",
    "print(f\"总FLOPs (近似值): {total_flops/1000000:,}\")"
   ],
   "id": "51c358ed7ca1ba85"
  }
 ],
 "metadata": {
  "kernelspec": {
   "display_name": "Python 3",
   "language": "python",
   "name": "python3"
  },
  "language_info": {
   "codemirror_mode": {
    "name": "ipython",
    "version": 2
   },
   "file_extension": ".py",
   "mimetype": "text/x-python",
   "name": "python",
   "nbconvert_exporter": "python",
   "pygments_lexer": "ipython2",
   "version": "2.7.6"
  }
 },
 "nbformat": 4,
 "nbformat_minor": 5
}
